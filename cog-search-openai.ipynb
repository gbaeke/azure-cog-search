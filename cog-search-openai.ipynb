{
 "cells": [
  {
   "cell_type": "code",
   "execution_count": 1,
   "metadata": {},
   "outputs": [],
   "source": [
    "from dotenv import load_dotenv\n",
    "import os\n",
    "load_dotenv()\n",
    "\n",
    "# ACS Integration Settings\n",
    "AZURE_SEARCH_SERVICE = os.environ.get(\"AZURE_SEARCH_SERVICE\")\n",
    "AZURE_SEARCH_INDEX = os.environ.get(\"AZURE_SEARCH_INDEX\")\n",
    "AZURE_SEARCH_KEY = os.environ.get(\"AZURE_SEARCH_KEY\")\n",
    "AZURE_SEARCH_USE_SEMANTIC_SEARCH = os.environ.get(\"AZURE_SEARCH_USE_SEMANTIC_SEARCH\", \"false\")\n",
    "AZURE_SEARCH_SEMANTIC_SEARCH_CONFIG = os.environ.get(\"AZURE_SEARCH_SEMANTIC_SEARCH_CONFIG\", \"default\")\n",
    "AZURE_SEARCH_TOP_K = os.environ.get(\"AZURE_SEARCH_TOP_K\", 5)\n",
    "AZURE_SEARCH_ENABLE_IN_DOMAIN = os.environ.get(\"AZURE_SEARCH_ENABLE_IN_DOMAIN\", \"true\")\n",
    "AZURE_SEARCH_CONTENT_COLUMNS = os.environ.get(\"AZURE_SEARCH_CONTENT_COLUMNS\")\n",
    "AZURE_SEARCH_FILENAME_COLUMN = os.environ.get(\"AZURE_SEARCH_FILENAME_COLUMN\")\n",
    "AZURE_SEARCH_TITLE_COLUMN = os.environ.get(\"AZURE_SEARCH_TITLE_COLUMN\")\n",
    "AZURE_SEARCH_URL_COLUMN = os.environ.get(\"AZURE_SEARCH_URL_COLUMN\")\n",
    "\n",
    "# AOAI Integration Settings\n",
    "AZURE_OPENAI_RESOURCE = os.environ.get(\"AZURE_OPENAI_RESOURCE\")\n",
    "AZURE_OPENAI_MODEL = os.environ.get(\"AZURE_OPENAI_MODEL\")\n",
    "AZURE_OPENAI_KEY = os.environ.get(\"AZURE_OPENAI_KEY\")\n",
    "AZURE_OPENAI_TEMPERATURE = os.environ.get(\"AZURE_OPENAI_TEMPERATURE\", 0)\n",
    "AZURE_OPENAI_TOP_P = os.environ.get(\"AZURE_OPENAI_TOP_P\", 1.0)\n",
    "AZURE_OPENAI_MAX_TOKENS = os.environ.get(\"AZURE_OPENAI_MAX_TOKENS\", 1000)\n",
    "AZURE_OPENAI_STOP_SEQUENCE = os.environ.get(\"AZURE_OPENAI_STOP_SEQUENCE\")\n",
    "AZURE_OPENAI_SYSTEM_MESSAGE = os.environ.get(\"AZURE_OPENAI_SYSTEM_MESSAGE\", \"You are an AI assistant that helps people find information about jobs.\")\n",
    "AZURE_OPENAI_PREVIEW_API_VERSION = os.environ.get(\"AZURE_OPENAI_PREVIEW_API_VERSION\", \"2023-06-01-preview\")\n",
    "AZURE_OPENAI_STREAM = os.environ.get(\"AZURE_OPENAI_STREAM\", \"true\")\n",
    "AZURE_OPENAI_MODEL_NAME = os.environ.get(\"AZURE_OPENAI_MODEL_NAME\", \"gpt-35-turbo\")"
   ]
  },
  {
   "cell_type": "code",
   "execution_count": 2,
   "metadata": {},
   "outputs": [
    {
     "name": "stdout",
     "output_type": "stream",
     "text": [
      "oa-geba-france\n"
     ]
    }
   ],
   "source": [
    "print(AZURE_OPENAI_RESOURCE)"
   ]
  },
  {
   "cell_type": "code",
   "execution_count": 2,
   "metadata": {},
   "outputs": [
    {
     "name": "stdout",
     "output_type": "stream",
     "text": [
      "200\n",
      "{\n",
      "    \"id\": \"0e71c288-8331-44e3-8e3f-6d656fdac688\",\n",
      "    \"model\": \"gpt-35-turbo\",\n",
      "    \"created\": 1691068953,\n",
      "    \"object\": \"chat.completion\",\n",
      "    \"choices\": [\n",
      "        {\n",
      "            \"index\": 0,\n",
      "            \"messages\": [\n",
      "                {\n",
      "                    \"index\": 0,\n",
      "                    \"role\": \"tool\",\n",
      "                    \"content\": \"{\\\"citations\\\": [{\\\"content\\\": \\\"Job title: Digital Content Creator\\\\nCompany: RMDY\\\\nChoosing is losing, and growing is always good \\\\u00e2\\\\u20ac\\\\u201c that\\\\u00e2\\\\u20ac\\\\u2122s why, in addition to text, you can also\\\\ncreate visuals. Because as a Digital Content Creator, you go for everything. \\\\u00f0\\\\u0178\\\\u02dc\\\\u2030\\\\nYou write compelling social media posts that deliver the necessary results for our clients. Or you\\\\ncreate remarkable visuals for our ads that generate more clicks than a grumpy cat meme.\\\\nWhether you create text, images, or videos: quality and storytelling are always present. You do this\\\\nusing the strategy we agreed upon with the client, the tone of voice, brand guidelines, and personas.\\\\nAnd you definitely bring your own unique creativity to the table!\\\\nYou can handle a dose of craziness, fun, exuberance, and energy. But you can also handle\\\\ndeadlines, planning, focus, requesting feedback, and giving and receiving (well-founded) criticism.\\\\nTLDR: As a Digital Content Creator, you translate our clients\\\\u00e2\\\\u20ac\\\\u2122 objectives into visuals, words,\\\\nand/or designs. You do this with the strategy, tone of voice, brand guidelines, and target audience in\\\\nmind.\\\\nYOU DO?\\\\nAs a digital content creator, you contribute to our clients\\\\u00e2\\\\u20ac\\\\u2122 content calendar, effortlessly\\\\ntranslating their story into text, images, or videos.\\\\nYou create compelling visuals that align with an overarching marketing strategy.\\\\nYou craft inspiring blog posts, interviews, and other long-form content that is SEO-friendly (no\\\\nworries \\\\u00e2\\\\u20ac\\\\u201c our marketeers will assist you with this).\\\\nShort-form copy for social media or digital advertisements does not intimidate you.\\\\nWhile you primarily focus on visuals and text, you have the freedom to grow in the direction you\\\\nwant, such as podcasts, animations, etc.\\\\nYou work collaboratively and can effectively communicate with your colleagues, both at the office\\\\nand remotely.\\\\nYou actively contribute (out-of-the-box) ideas to shape assignments.\\\\nYou take initiative and take charge, even if it means pulling some strings. \\\\u00f0\\\\u0178\\\\u02dc\\\\u2030\\\\nYOU ARE?\\\\nCreative and assertive in a mix of media: words, images, or videos. In short, a digital content creator\\\\nafter our own heart.\\\\nYou have some relevant work experience as a copywriter, digital content creator, storyteller, or\\\\nwhatever you\\\\u00e2\\\\u20ac\\\\u2122d like to call yourself.\\\\nYou are a digital native, i.e. you know how social media works, how to take a decent photo, and how\\\\nGoogle Workspace operates.\\\\nYou gather information and transform it into engaging text, striking social media posts, compelling\\\\nvisuals, or catchy videos. Whether it\\\\u00e2\\\\u20ac\\\\u2122s via email, phone, chat, or face-to-face, you pursue your\\\\ngoals in a concise, honest, and always friendly manner.\\\\nYou have design skills in Figma, Adobe Creative Cloud, or another reputable program. At RMDY,\\\\nwe\\\\u00e2\\\\u20ac\\\\u2122re big fans of Figma, so if you\\\\u00e2\\\\u20ac\\\\u2122re not yet familiar with it, you\\\\u00e2\\\\u20ac\\\\u2122re willing to learn.\\\\nYou have a growth mindset: you want to grow personally and in your job. You seize every\\\\nopportunity and enjoy sharing \\\\u00e2\\\\u20ac\\\\u0153growth\\\\u00e2\\\\u20ac\\\\u2022 moments during our team meetings.\\\\nYou\\\\u00e2\\\\u20ac\\\\u2122re not a wallflower: you express your (well-founded) opinions, actively participate in\\\\nbrainstorms, and take matters into your own hands.\\\\nYou preferably have an affinity for tech and the IT sector, but we also appreciate fresh perspectives\\\\non our profession.\\\\nYou identify with our core values: creativity, responsibility, trust, and quality.\\\\nTHE TEAM\\\\nYou\\\\u00e2\\\\u20ac\\\\u2122ll join a hardworking, creative, and enthusiastic team. What does the Digital Marketing team\\\\ndo?\\\\nDigital MarketingEnd-to-end campaigns.Google SEO/SEA.Social media content creation and\\\\nadvertising.\\\\nAnalysis and adjustments.\\\\nContent CreationFor social media and websites (LinkedIn, Facebook, Instagram, etc.).Developing\\\\ndigital marketing and content strategies.Copywriting, proofreading, and final editing for long and\\\\nshort copyTaking interviews andDigital designVideo\\\\nFotography\\\\nWE LOVE\\\\nFood, but also:\\\\npunctuation marks, such as a semicolon and a parenthesis \\\\u00f0\\\\u0178\\\\u02dc\\\\u2030\\\\nhashtags #emojisforthewin\\\\nbright yellow post-its\\\\nsynonyms.net and the VRT language mail\\\\nMedium, Dribbble, Pinterest or other sources for inspiration\\\\nFigma and Adobe Creative Cloud\\\\nGoogle Workspace and useful project management tools.\\\\nHave fun with colleagues\\\", \\\"id\\\": null, \\\"title\\\": \\\"Job title: Digital Content Creator\\\", \\\"filepath\\\": \\\"Digital_Content_Creator.pdf\\\", \\\"url\\\": \\\"https://gebaacaai.blob.core.windows.net/fileupload-jobs/Digital_Content_Creator.pdf\\\", \\\"metadata\\\": {\\\"chunking\\\": \\\"orignal document size=997. Scores=2.8098414 and None.Org Highlight count=55.\\\"}, \\\"chunk_id\\\": \\\"0\\\"}, {\\\"content\\\": \\\"Job title: Team coach with UX/UI skills\\\\nCompany: RMDY\\\\nYou have been designing (and building) applications for years. They are so user-friendly that even\\\\nyour grandma knows how to navigate. You have a well-balanced expertise in working with project\\\\nteams and demanding clients, and you can stand your ground.\\\\nIn short, you are a true UX/UI designer \\\\u00e2\\\\u20ac\\\\u201c on and off screen \\\\u00e2\\\\u20ac\\\\u201c and you can prove it with your\\\\nexperience and portfolio. Thanks to that experience, you have also developed enough people skills\\\\nto coach our Creative team to a higher level.\\\\nTLDR: You are a UX/UI designer who is mature enough to lead and coach a team, i.e. provide\\\\nadministrative, emotional, and project support.\\\\nYOU DO?\\\\nAs a UX/UI expert you will also partially contribute to client projects \\\\u00e2\\\\u20ac\\\\u201c but thats selfexplanatory.\\\\nYou can do it with your eyes closed (or no, better keep them open). Wireframing, design, mock-ups,\\\\nuser research\\\\u00e2\\\\u20ac\\\\u00a6 you\\\\u00e2\\\\u20ac\\\\u2122ve done it all.\\\\nYou translate intake workshops with clients into a proper briefing and consequently into\\\\nbreathtaking, user-friendly designs. With your expertise as a UX/UI guru, you assist the team with\\\\nvarious questions regarding Figma, Adobe Creative Cloud, UX principles, and other design battles.\\\\nIn addition to fieldwork, you provide support to the Creative team in administrative, personal, and\\\\norganizational aspects. This includes approving vacations, monitoring timesheets, project allocation,\\\\ncoaching, motivating, resolving client issues, being a point of contact for questions or concerns, and\\\\nguiding in personal growth plans.\\\\nYOU ARE?\\\\nAs a UX/UI expert, you flawlessly translate briefings into designs that are ready for the appropriate\\\\nmedium.\\\\nYou create these designs using Figma, Adobe Creative Cloud, and/or other relevant graphic tools.\\\\nYou advocate for the user: you think proactively with the client and dare to emphasize that the user\\\\nexperience is paramount.\\\\nYou love sharing your knowledge and expertise with the team.\\\\nYou have insights into digital project management and easily navigate between (project) managers,\\\\nproduct owners, analysts, and developers.\\\\nYou are a growth addict: you seize every opportunity that can help you improve, as continuous\\\\ngrowth is at least as important to you as a perfect user flow.\\\\nYou identify with our core values: creativity, responsibility, trust, and quality.\\\\nBonus points: knowledge of HTML, CSS, and other mainstream technologies.\\\\nTHE TEAM\\\\nThe Creative team consists of about five passionate UX/UI designers, each working on projects\\\\neither at a client\\\\u00e2\\\\u20ac\\\\u2122s location or in-house. The delightful mix of junior, mid-level, and senior profiles\\\\ncreates a dynamic environment for sharing tips and tricks, supporting each other, and learning.\\\\nThe Creative team is self-managing; as a team coach, you guide them through the most suitable\\\\ntraining plan, practical matters, challenges with clients, new projects, and more.\\\\nExpect UX/UI designers with impressive expertise, endless curiosity, a touch of quirkiness, and a\\\\ngreat desire to deliver the best results.\\\", \\\"id\\\": null, \\\"title\\\": \\\"Job title: Team coach with UX/UI skills\\\", \\\"filepath\\\": \\\"Team_coach_with_UXUI_skills.pdf\\\", \\\"url\\\": \\\"https://gebaacaai.blob.core.windows.net/fileupload-jobs/Team_coach_with_UXUI_skills.pdf\\\", \\\"metadata\\\": {\\\"chunking\\\": \\\"orignal document size=689. Scores=2.6811848 and None.Org Highlight count=39.\\\"}, \\\"chunk_id\\\": \\\"0\\\"}, {\\\"content\\\": \\\"Job title: Senior React developer (web)\\\\nCompany: RMDY\\\\nYou practically spew web applications. (insert spiderman reference). You learned that during your\\\\neducation and in your first job(s), \\\\u00e2\\\\u20ac\\\\u02dccause you are a React developer in heart and soul. You are\\\\naddicted to news about the technological possibilities of today and tomorrow. You love a cool and\\\\ndriven team where everyone contributes and empowers each other by sharing knowledge.\\\\nSounds like you? Great!Because we are looking for a senior React developer to strengthen our web\\\\nteam.\\\\nTech?\\\\nHTML5, CSS3 (Sass/Less)\\\\nReact = must\\\\nVue or Angular is a nice to have\\\\nJavaScript / ECMAScript / TypeScript\\\\nHTTP, JSON, REST\\\\nGIT\\\\nMobile mindset\\\\nTesting\\\\nCordova / Ionic / PWA is a bonus\\\\nDocker / Node.JS is a bonus\\\\nIn addition to the tech skills, you also have some feeling for design and user interface. You realize\\\\nthat an application looks different than it did ten years ago and you are up to date with the latest\\\\ndesign principles.\\\\nWe give\\\\nA permanent and full-time contract in a great team with inspired colleagues. And a salary package\\\\nwith flexible hours and the necessary flexibility: you take some, you give some.\\\\nOf course we also provide cool projects and an attractive salary, completed with a company car, fuel\\\\ncard, top-notch devices to do your job, hospitalization and group insurance \\\\u00e2\\\\u20ac\\\\u00a6 and more!\\\\nBut above all, we want our employees to grow and glow and become the experts in their field.\\\\nThanks to your extensive training budget, you choose the training courses and workshops you want.\\\\nThis will give your career an unprecedented boost!\\\", \\\"id\\\": null, \\\"title\\\": \\\"Job title: Senior React developer (web)\\\", \\\"filepath\\\": \\\"Senior_React_developer_web.pdf\\\", \\\"url\\\": \\\"https://gebaacaai.blob.core.windows.net/fileupload-jobs/Senior_React_developer_web.pdf\\\", \\\"metadata\\\": {\\\"chunking\\\": \\\"orignal document size=375. Scores=2.5831685 and None.Org Highlight count=21.\\\"}, \\\"chunk_id\\\": \\\"0\\\"}, {\\\"content\\\": \\\"Job title: Enterprise Technology Architect\\\\nCompany: 45 Degrees\\\\nAt 45 Degrees we\\\\u00c2\\\\u00a0narrow down the playfield to help our customer make the right business and\\\\ntechnical decisions.\\\\u00c2\\\\u00a0To deliver that service, we need enterprise architects with a strong technology\\\\nbackground. That\\\\u00e2\\\\u20ac\\\\u2122s why we added technology in the profile.\\\\nWhy 45 Degrees?\\\\n45 Degrees is part of the Cronos Group, the largest IT community In Belgium with its 650 companies\\\\nand 8000 people. We combine the safety of a strong and stable environment with the agility of a\\\\nstart-up.\\\\nAs an Azure Cloud Architect you work in an environment where innovative entrepreneurship is key.\\\\nYou get exciting opportunities with a lot of variation through different projects and clients.\\\\nWith our exclusive focus on cloud architecture, you join a club of like-minded and are supported by\\\\nthe 45 Degrees Digital Vision framework.\\\\nYou have the opportunity to deepen your skills.\\\\nYou can count on an attractive salary supplemented with extra-legal benefits\\\\nYou are part of the largest IT network with expertise in various fields.\\\", \\\"id\\\": null, \\\"title\\\": \\\"Job title: Enterprise Technology Architect\\\", \\\"filepath\\\": \\\"Enterprise_Technology_Architect.pdf\\\", \\\"url\\\": \\\"https://gebaacaai.blob.core.windows.net/fileupload-jobs/Enterprise_Technology_Architect.pdf\\\", \\\"metadata\\\": {\\\"chunking\\\": \\\"orignal document size=225. Scores=2.4901924 and None.Org Highlight count=7.\\\"}, \\\"chunk_id\\\": \\\"0\\\"}, {\\\"content\\\": \\\"Job title: Associate cloud Architect\\\\nCompany: 45 Degrees\\\\nAs an Associate Cloud Architect or a Cloud Engineer, you help guiding your clients in their transition\\\\nto the cloud, more specific the Microsoft Azure Cloud.\\\\u00c2\\\\u00a0\\\\nWhy 45 Degrees?\\\\n45 Degrees is part of the Cronos Group, the largest IT community In Belgium with its 650 companies\\\\nand 8000 people. We combine the safety of a strong and stable environment with the agility of a\\\\nstart-up.\\\\nAs an Azure Cloud Architect you work in an environment where innovative entrepreneurship is key.\\\\nYou get exciting opportunities with a lot of variation through different projects and clients.\\\\nWith our exclusive focus on cloud architecture, you join a club of like-minded and are supported by\\\\nthe 45 Degrees Digital Vision framework.\\\\nYou have the opportunity to deepen your skills.\\\\nYou can count on an attractive salary supplemented with extra-legal benefits\\\\nYou are part of the largest IT network with expertise in various fields.\\\", \\\"id\\\": null, \\\"title\\\": \\\"Job title: Associate cloud Architect\\\", \\\"filepath\\\": \\\"Associate_cloud_Architect.pdf\\\", \\\"url\\\": \\\"https://gebaacaai.blob.core.windows.net/fileupload-jobs/Associate_cloud_Architect.pdf\\\", \\\"metadata\\\": {\\\"chunking\\\": \\\"orignal document size=200. Scores=2.4398642 and None.Org Highlight count=11.\\\"}, \\\"chunk_id\\\": \\\"0\\\"}], \\\"intent\\\": \\\"I'm sorry, I didn't understand your request. Could you please provide more information or clarify your question?\\\"}\",\n",
      "                    \"end_turn\": false\n",
      "                },\n",
      "                {\n",
      "                    \"index\": 1,\n",
      "                    \"role\": \"assistant\",\n",
      "                    \"content\": \"Here are some job titles and descriptions that I found in the retrieved documents:\\n\\n- Digital Content Creator at RMDY: As a Digital Content Creator, you translate clients' objectives into visuals, words, and/or designs. You contribute to clients' content calendar, create compelling visuals, craft inspiring blog posts, and create short-form copy for social media or digital advertisements. You work collaboratively and can effectively communicate with your colleagues, both at the office and remotely [doc1].\\n\\n- Team Coach with UX/UI Skills at RMDY: As a UX/UI expert, you flawlessly translate briefings into designs that are ready for the appropriate medium. You create these designs using Figma, Adobe Creative Cloud, and/or other relevant graphic tools. You advocate for the user, think proactively with the client, and dare to emphasize that the user experience is paramount. You love sharing your knowledge and expertise with the team. You have insights into digital project management and easily navigate between (project) managers, product owners, analysts, and developers. You identify with our core values: creativity, responsibility, trust, and quality [doc2].\\n\\n- Senior React Developer (Web) at RMDY: We are looking for a senior React developer to strengthen our web team. You have extensive experience in HTML5, CSS3 (Sass/Less), React, Vue or Angular, JavaScript / ECMAScript / TypeScript, HTTP, JSON, REST, GIT, Mobile mindset, Testing, Cordova / Ionic / PWA, Docker / Node.JS. In addition to the tech skills, you also have some feeling for design and user interface. You realize that an application looks different than it did ten years ago and you are up to date with the latest design principles [doc3].\\n\\n- Enterprise Technology Architect at 45 Degrees: At 45 Degrees, we need enterprise architects with a strong technology background. As an Azure Cloud Architect, you work in an environment where innovative entrepreneurship is key. You get exciting opportunities with a lot of variation through different projects and clients. With our exclusive focus on cloud architecture, you join a club of like-minded and are supported by the 45 Degrees Digital Vision framework. You have the opportunity to deepen your skills. You can count on an attractive salary supplemented with extra-legal benefits. You are part of the largest IT network with expertise in various fields [doc4].\\n\\n- Associate Cloud Architect at 45 Degrees: As an Associate Cloud Architect or a Cloud Engineer, you help guide your clients in their transition to the cloud, more specifically the Microsoft Azure Cloud. You work in an environment where innovative entrepreneurship is key. You get exciting opportunities with a lot of variation through different projects and clients. With our exclusive focus on cloud architecture, you join a club of like-minded and are supported by the 45 Degrees Digital Vision framework. You have the opportunity to deepen your skills. You can count on an attractive salary supplemented with extra-legal benefits. You are part of the largest IT network with expertise in various fields [doc5].\\n\\nPlease note that these are just a few examples of job titles and descriptions that I found in the retrieved documents. If you have any specific requirements or preferences, please let me know and I can try to find more information for you.\",\n",
      "                    \"end_turn\": true\n",
      "                }\n",
      "            ]\n",
      "        }\n",
      "    ]\n",
      "}\n"
     ]
    }
   ],
   "source": [
    "# prepare messages array with question about jobs\n",
    "messages = [\n",
    "    {\"role\": \"system\", \"content\": AZURE_OPENAI_SYSTEM_MESSAGE},\n",
    "    {\"role\": \"user\", \"content\": \"What jobs are available?\"}\n",
    "]\n",
    "\n",
    "SHOULD_STREAM = True if AZURE_OPENAI_STREAM.lower() == \"true\" else False\n",
    "\n",
    "# prepare body to sent to chat completion endpoint\n",
    "body = {\n",
    "        \"messages\": messages,\n",
    "        \"temperature\": float(AZURE_OPENAI_TEMPERATURE),\n",
    "        \"max_tokens\": int(AZURE_OPENAI_MAX_TOKENS),\n",
    "        \"top_p\": float(AZURE_OPENAI_TOP_P),\n",
    "        \"stop\": AZURE_OPENAI_STOP_SEQUENCE.split(\"|\") if AZURE_OPENAI_STOP_SEQUENCE else None,\n",
    "        \"stream\": SHOULD_STREAM,\n",
    "        \"dataSources\": [\n",
    "            {\n",
    "                \"type\": \"AzureCognitiveSearch\",\n",
    "                \"parameters\": {\n",
    "                    \"endpoint\": f\"https://{AZURE_SEARCH_SERVICE}.search.windows.net\",\n",
    "                    \"key\": AZURE_SEARCH_KEY,\n",
    "                    \"indexName\": AZURE_SEARCH_INDEX,\n",
    "                    \"fieldsMapping\": {\n",
    "                        \"contentField\": AZURE_SEARCH_CONTENT_COLUMNS.split(\"|\") if AZURE_SEARCH_CONTENT_COLUMNS else [],\n",
    "                        \"titleField\": AZURE_SEARCH_TITLE_COLUMN if AZURE_SEARCH_TITLE_COLUMN else None,\n",
    "                        \"urlField\": AZURE_SEARCH_URL_COLUMN if AZURE_SEARCH_URL_COLUMN else None,\n",
    "                        \"filepathField\": AZURE_SEARCH_FILENAME_COLUMN if AZURE_SEARCH_FILENAME_COLUMN else None\n",
    "                    },\n",
    "                    \"inScope\": True if AZURE_SEARCH_ENABLE_IN_DOMAIN.lower() == \"true\" else False,\n",
    "                    \"topNDocuments\": AZURE_SEARCH_TOP_K,\n",
    "                    \"queryType\": \"semantic\" if AZURE_SEARCH_USE_SEMANTIC_SEARCH.lower() == \"true\" else \"simple\",\n",
    "                    \"semanticConfiguration\": AZURE_SEARCH_SEMANTIC_SEARCH_CONFIG if AZURE_SEARCH_USE_SEMANTIC_SEARCH.lower() == \"true\" and AZURE_SEARCH_SEMANTIC_SEARCH_CONFIG else \"\",\n",
    "                    \"roleInformation\": AZURE_OPENAI_SYSTEM_MESSAGE\n",
    "                }\n",
    "            }\n",
    "        ]\n",
    "    }\n",
    "\n",
    "endpoint = f\"https://{AZURE_OPENAI_RESOURCE}.openai.azure.com/openai/deployments/{AZURE_OPENAI_MODEL}/extensions/chat/completions?api-version={AZURE_OPENAI_PREVIEW_API_VERSION}\"\n",
    "    \n",
    "\n",
    "# prepare headers\n",
    "headers = {\n",
    "        'Content-Type': 'application/json',\n",
    "        'api-key': AZURE_OPENAI_KEY\n",
    "    }\n",
    "\n",
    "\n",
    "\n",
    "# send request to chat completion endpoint\n",
    "import requests\n",
    "response = requests.post(endpoint, headers=headers, json=body)\n",
    "\n",
    "print(response.status_code)\n",
    "\n",
    "# pretty print entire response\n",
    "import json\n",
    "print(json.dumps(response.json(), indent=4))\n",
    "\n",
    "# print model response\n",
    "model_response = response.json()[\"choices\"][0][\"messages\"][1][\"content\"]\n",
    "\n",
    "\n",
    "\n"
   ]
  }
 ],
 "metadata": {
  "kernelspec": {
   "display_name": "Python 3",
   "language": "python",
   "name": "python3"
  },
  "language_info": {
   "codemirror_mode": {
    "name": "ipython",
    "version": 3
   },
   "file_extension": ".py",
   "mimetype": "text/x-python",
   "name": "python",
   "nbconvert_exporter": "python",
   "pygments_lexer": "ipython3",
   "version": "3.11.4"
  },
  "orig_nbformat": 4
 },
 "nbformat": 4,
 "nbformat_minor": 2
}
