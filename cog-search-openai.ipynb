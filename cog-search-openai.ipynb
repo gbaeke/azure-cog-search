{
 "cells": [
  {
   "cell_type": "code",
   "execution_count": 1,
   "metadata": {},
   "outputs": [],
   "source": [
    "from dotenv import load_dotenv\n",
    "import os\n",
    "load_dotenv()\n",
    "\n",
    "# ACS Integration Settings\n",
    "AZURE_SEARCH_SERVICE = os.environ.get(\"AZURE_SEARCH_SERVICE\")\n",
    "AZURE_SEARCH_INDEX = os.environ.get(\"AZURE_SEARCH_INDEX\")\n",
    "AZURE_SEARCH_KEY = os.environ.get(\"AZURE_SEARCH_KEY\")\n",
    "AZURE_SEARCH_USE_SEMANTIC_SEARCH = os.environ.get(\"AZURE_SEARCH_USE_SEMANTIC_SEARCH\", \"false\")\n",
    "AZURE_SEARCH_SEMANTIC_SEARCH_CONFIG = os.environ.get(\"AZURE_SEARCH_SEMANTIC_SEARCH_CONFIG\", \"default\")\n",
    "AZURE_SEARCH_TOP_K = os.environ.get(\"AZURE_SEARCH_TOP_K\", 5)\n",
    "AZURE_SEARCH_ENABLE_IN_DOMAIN = os.environ.get(\"AZURE_SEARCH_ENABLE_IN_DOMAIN\", \"true\")\n",
    "AZURE_SEARCH_CONTENT_COLUMNS = os.environ.get(\"AZURE_SEARCH_CONTENT_COLUMNS\")\n",
    "AZURE_SEARCH_FILENAME_COLUMN = os.environ.get(\"AZURE_SEARCH_FILENAME_COLUMN\")\n",
    "AZURE_SEARCH_TITLE_COLUMN = os.environ.get(\"AZURE_SEARCH_TITLE_COLUMN\")\n",
    "AZURE_SEARCH_URL_COLUMN = os.environ.get(\"AZURE_SEARCH_URL_COLUMN\")\n",
    "\n",
    "# AOAI Integration Settings\n",
    "AZURE_OPENAI_RESOURCE = os.environ.get(\"AZURE_OPENAI_RESOURCE\")\n",
    "AZURE_OPENAI_MODEL = os.environ.get(\"AZURE_OPENAI_MODEL\")\n",
    "AZURE_OPENAI_KEY = os.environ.get(\"AZURE_OPENAI_KEY\")\n",
    "AZURE_OPENAI_TEMPERATURE = os.environ.get(\"AZURE_OPENAI_TEMPERATURE\", 0)\n",
    "AZURE_OPENAI_TOP_P = os.environ.get(\"AZURE_OPENAI_TOP_P\", 1.0)\n",
    "AZURE_OPENAI_MAX_TOKENS = os.environ.get(\"AZURE_OPENAI_MAX_TOKENS\", 1000)\n",
    "AZURE_OPENAI_STOP_SEQUENCE = os.environ.get(\"AZURE_OPENAI_STOP_SEQUENCE\")\n",
    "AZURE_OPENAI_SYSTEM_MESSAGE = os.environ.get(\"AZURE_OPENAI_SYSTEM_MESSAGE\", \"You are an AI assistant that helps people find information about jobs.\")\n",
    "AZURE_OPENAI_PREVIEW_API_VERSION = os.environ.get(\"AZURE_OPENAI_PREVIEW_API_VERSION\", \"2023-06-01-preview\")\n",
    "AZURE_OPENAI_STREAM = os.environ.get(\"AZURE_OPENAI_STREAM\", \"true\")\n",
    "AZURE_OPENAI_MODEL_NAME = os.environ.get(\"AZURE_OPENAI_MODEL_NAME\", \"gpt-35-turbo\")"
   ]
  },
  {
   "cell_type": "code",
   "execution_count": 2,
   "metadata": {},
   "outputs": [
    {
     "name": "stdout",
     "output_type": "stream",
     "text": [
      "oa-geba-france\n"
     ]
    }
   ],
   "source": [
    "print(AZURE_OPENAI_RESOURCE)"
   ]
  },
  {
   "cell_type": "code",
   "execution_count": 4,
   "metadata": {},
   "outputs": [
    {
     "name": "stdout",
     "output_type": "stream",
     "text": [
      "200\n",
      "{\n",
      "    \"id\": \"aef4bcf4-0336-4e0e-adc7-925c06bca7c5\",\n",
      "    \"model\": \"gpt-4\",\n",
      "    \"created\": 1691153029,\n",
      "    \"object\": \"chat.completion\",\n",
      "    \"choices\": [\n",
      "        {\n",
      "            \"index\": 0,\n",
      "            \"messages\": [\n",
      "                {\n",
      "                    \"index\": 0,\n",
      "                    \"role\": \"tool\",\n",
      "                    \"content\": \"{\\\"citations\\\": [{\\\"content\\\": \\\"Job title: Azure Cloud Architect\\\\nCompany: Exsertus\\\\nAre you the reinforcing factor we are looking for in our project team? Are you a team player who can\\\\nalso make a difference in developing robust, high-quality technical solutions in .NET and Cloud\\\\ntechnology? Then become part of our permanent team that is deployed for the longer term on an\\\\nambitious and challenging project!\\\\nWhat\\\\u00e2\\\\u20ac\\\\u2122s in it for you?\\\\nA stable and ambitious company with an open culture where you can develop yourself and\\\\nstrengthen the organization. A professional framework where fun and strong work always go hand in\\\\nhand. At Exsertus you can always count on:\\\\nA non-stop learning and growth processBased on your input and the direction in which you want to\\\\nevolve, we\\\\u00e2\\\\u20ac\\\\u2122ll lay out a development plan. We provide everyone with 10 training days per year as\\\\nstandard, which you can fill in yourself with a mix of self-study, internal and external training.\\\\nTraining can be interpreted in a broad sense and therefore goes beyond the purely IT technical\\\\naspect.\\\\nTeam spirit.Team spirit is not only achieved by working together, but also by getting to know your\\\\ncolleagues even better in a different context. We put a lot of effort into our fun and social activities,\\\\njust because it\\\\u00e2\\\\u20ac\\\\u2122s great, of course, but above all to give you plenty of opportunities to build a\\\\nclose relationship with your colleagues.The activity calendar is very diverse, ranging from family\\\\nBBQs, dinners, FIFA tournaments, paintball, karting, bowling, a weekend away, \\\\u00e2\\\\u20ac\\\\u00a6 there\\\\u00e2\\\\u20ac\\\\u2122s\\\\nsomething for everyone and you also get a say in it.\\\\nWork-Life Balance.With flexible hours, the possibility of working remotely, taking into account\\\\ncommuting, \\\\u00e2\\\\u20ac\\\\u00a6 we tailor your assignments to your personal situation as much as possible.\\\\nSalary package.We combine a competitive gross salary with an expense and meal allowance,\\\\nflexible income plan (FIP), a more than decent company car (preferably electric), group and\\\\nhospitalization insurance, laptop, mobile phone subscription, 12 \\\\u00e2\\\\u20ac\\\\u0153ADV\\\\u00e2\\\\u20ac\\\\u2022 days and numerous\\\\nother benefits (Cronos Care Package).\\\", \\\"id\\\": null, \\\"title\\\": \\\"Job title: Azure Cloud Architect\\\", \\\"filepath\\\": \\\"Azure_Cloud_Architect.pdf\\\", \\\"url\\\": \\\"https://gebaacaai.blob.core.windows.net/fileupload-jobs/Azure_Cloud_Architect.pdf\\\", \\\"metadata\\\": {\\\"chunking\\\": \\\"orignal document size=479. Scores=0.8686427474021912 and 3.4745709896087646.Org Highlight count=28.\\\"}, \\\"chunk_id\\\": \\\"0\\\"}, {\\\"content\\\": \\\"Job title: Enterprise Technology Architect\\\\nCompany: 45 Degrees\\\\nAt 45 Degrees we\\\\u00c2\\\\u00a0narrow down the playfield to help our customer make the right business and\\\\ntechnical decisions.\\\\u00c2\\\\u00a0To deliver that service, we need enterprise architects with a strong technology\\\\nbackground. That\\\\u00e2\\\\u20ac\\\\u2122s why we added technology in the profile.\\\\nWhy 45 Degrees?\\\\n45 Degrees is part of the Cronos Group, the largest IT community In Belgium with its 650 companies\\\\nand 8000 people. We combine the safety of a strong and stable environment with the agility of a\\\\nstart-up.\\\\nAs an Azure Cloud Architect you work in an environment where innovative entrepreneurship is key.\\\\nYou get exciting opportunities with a lot of variation through different projects and clients.\\\\nWith our exclusive focus on cloud architecture, you join a club of like-minded and are supported by\\\\nthe 45 Degrees Digital Vision framework.\\\\nYou have the opportunity to deepen your skills.\\\\nYou can count on an attractive salary supplemented with extra-legal benefits\\\\nYou are part of the largest IT network with expertise in various fields.\\\", \\\"id\\\": null, \\\"title\\\": \\\"Job title: Enterprise Technology Architect\\\", \\\"filepath\\\": \\\"Enterprise_Technology_Architect.pdf\\\", \\\"url\\\": \\\"https://gebaacaai.blob.core.windows.net/fileupload-jobs/Enterprise_Technology_Architect.pdf\\\", \\\"metadata\\\": {\\\"chunking\\\": \\\"orignal document size=225. Scores=0.8240272402763367 and 3.2961089611053467.Org Highlight count=14.\\\"}, \\\"chunk_id\\\": \\\"0\\\"}, {\\\"content\\\": \\\"Job title: Cloud Architect\\\\nCompany: 45 Degrees\\\\n45 Degrees helps enterprise customers on their journey to the Cloud. Cloud computing offers great\\\\nopportunities. It does however require significant changes for IT departments on both organizational\\\\nas well as technical level.\\\\nWhy 45 Degrees?\\\\n45 Degrees is part of the Cronos Group, the largest IT community In Belgium with its 650 companies\\\\nand 8000 people. We combine the safety of a strong and stable environment with the agility of a\\\\nstart-up.\\\\nAs an Azure Cloud Architect you work in an environment where innovative entrepreneurship is key.\\\\nYou get exciting opportunities with a lot of variation through different projects and clients.\\\\nWith our exclusive focus on cloud architecture, you join a club of like-minded and are supported by\\\\nthe 45 Degrees Digital Vision framework.\\\\nYou have the opportunity to deepen your skills.\\\\nYou can count on an attractive salary supplemented with extra-legal benefits\\\\nYou are part of the largest IT network with expertise in various fields.\\\", \\\"id\\\": null, \\\"title\\\": \\\"Job title: Cloud Architect\\\", \\\"filepath\\\": \\\"Cloud_Architect.pdf\\\", \\\"url\\\": \\\"https://gebaacaai.blob.core.windows.net/fileupload-jobs/Cloud_Architect.pdf\\\", \\\"metadata\\\": {\\\"chunking\\\": \\\"orignal document size=208. Scores=0.7547104954719543 and 3.0188419818878174.Org Highlight count=14.\\\"}, \\\"chunk_id\\\": \\\"0\\\"}, {\\\"content\\\": \\\"Job title: Associate cloud Architect\\\\nCompany: 45 Degrees\\\\nAs an Associate Cloud Architect or a Cloud Engineer, you help guiding your clients in their transition\\\\nto the cloud, more specific the Microsoft Azure Cloud.\\\\u00c2\\\\u00a0\\\\nWhy 45 Degrees?\\\\n45 Degrees is part of the Cronos Group, the largest IT community In Belgium with its 650 companies\\\\nand 8000 people. We combine the safety of a strong and stable environment with the agility of a\\\\nstart-up.\\\\nAs an Azure Cloud Architect you work in an environment where innovative entrepreneurship is key.\\\\nYou get exciting opportunities with a lot of variation through different projects and clients.\\\\nWith our exclusive focus on cloud architecture, you join a club of like-minded and are supported by\\\\nthe 45 Degrees Digital Vision framework.\\\\nYou have the opportunity to deepen your skills.\\\\nYou can count on an attractive salary supplemented with extra-legal benefits\\\\nYou are part of the largest IT network with expertise in various fields.\\\", \\\"id\\\": null, \\\"title\\\": \\\"Job title: Associate cloud Architect\\\", \\\"filepath\\\": \\\"Associate_cloud_Architect.pdf\\\", \\\"url\\\": \\\"https://gebaacaai.blob.core.windows.net/fileupload-jobs/Associate_cloud_Architect.pdf\\\", \\\"metadata\\\": {\\\"chunking\\\": \\\"orignal document size=200. Scores=0.6629902124404907 and 2.651960849761963.Org Highlight count=17.\\\"}, \\\"chunk_id\\\": \\\"0\\\"}, {\\\"content\\\": \\\"Job title: Team coach with UX/UI skills\\\\nCompany: RMDY\\\\nYou have been designing (and building) applications for years. They are so user-friendly that even\\\\nyour grandma knows how to navigate. You have a well-balanced expertise in working with project\\\\nteams and demanding clients, and you can stand your ground.\\\\nIn short, you are a true UX/UI designer \\\\u00e2\\\\u20ac\\\\u201c on and off screen \\\\u00e2\\\\u20ac\\\\u201c and you can prove it with your\\\\nexperience and portfolio. Thanks to that experience, you have also developed enough people skills\\\\nto coach our Creative team to a higher level.\\\\nTLDR: You are a UX/UI designer who is mature enough to lead and coach a team, i.e. provide\\\\nadministrative, emotional, and project support.\\\\nYOU DO?\\\\nAs a UX/UI expert you will also partially contribute to client projects \\\\u00e2\\\\u20ac\\\\u201c but thats selfexplanatory.\\\\nYou can do it with your eyes closed (or no, better keep them open). Wireframing, design, mock-ups,\\\\nuser research\\\\u00e2\\\\u20ac\\\\u00a6 you\\\\u00e2\\\\u20ac\\\\u2122ve done it all.\\\\nYou translate intake workshops with clients into a proper briefing and consequently into\\\\nbreathtaking, user-friendly designs. With your expertise as a UX/UI guru, you assist the team with\\\\nvarious questions regarding Figma, Adobe Creative Cloud, UX principles, and other design battles.\\\\nIn addition to fieldwork, you provide support to the Creative team in administrative, personal, and\\\\norganizational aspects. This includes approving vacations, monitoring timesheets, project allocation,\\\\ncoaching, motivating, resolving client issues, being a point of contact for questions or concerns, and\\\\nguiding in personal growth plans.\\\\nYOU ARE?\\\\nAs a UX/UI expert, you flawlessly translate briefings into designs that are ready for the appropriate\\\\nmedium.\\\\nYou create these designs using Figma, Adobe Creative Cloud, and/or other relevant graphic tools.\\\\nYou advocate for the user: you think proactively with the client and dare to emphasize that the user\\\\nexperience is paramount.\\\\nYou love sharing your knowledge and expertise with the team.\\\\nYou have insights into digital project management and easily navigate between (project) managers,\\\\nproduct owners, analysts, and developers.\\\\nYou are a growth addict: you seize every opportunity that can help you improve, as continuous\\\\ngrowth is at least as important to you as a perfect user flow.\\\\nYou identify with our core values: creativity, responsibility, trust, and quality.\\\\nBonus points: knowledge of HTML, CSS, and other mainstream technologies.\\\\nTHE TEAM\\\\nThe Creative team consists of about five passionate UX/UI designers, each working on projects\\\\neither at a client\\\\u00e2\\\\u20ac\\\\u2122s location or in-house. The delightful mix of junior, mid-level, and senior profiles\\\\ncreates a dynamic environment for sharing tips and tricks, supporting each other, and learning.\\\\nThe Creative team is self-managing; as a team coach, you guide them through the most suitable\\\\ntraining plan, practical matters, challenges with clients, new projects, and more.\\\\nExpect UX/UI designers with impressive expertise, endless curiosity, a touch of quirkiness, and a\\\\ngreat desire to deliver the best results.\\\", \\\"id\\\": null, \\\"title\\\": \\\"Job title: Team coach with UX/UI skills\\\", \\\"filepath\\\": \\\"Team_coach_with_UXUI_skills.pdf\\\", \\\"url\\\": \\\"https://gebaacaai.blob.core.windows.net/fileupload-jobs/Team_coach_with_UXUI_skills.pdf\\\", \\\"metadata\\\": {\\\"chunking\\\": \\\"orignal document size=689. Scores=0.37002143263816833 and 1.4800857305526733.Org Highlight count=27.\\\"}, \\\"chunk_id\\\": \\\"0\\\"}], \\\"intent\\\": \\\"[\\\\\\\"Is there a job for an Azure architect?\\\\\\\"]\\\"}\",\n",
      "                    \"end_turn\": false\n",
      "                },\n",
      "                {\n",
      "                    \"index\": 1,\n",
      "                    \"role\": \"assistant\",\n",
      "                    \"content\": \"Yes, there are several job opportunities for an Azure architect. Here are a few examples:\\n\\n1. Job title: Azure Cloud Architect at Exsertus. This role involves developing robust, high-quality technical solutions in .NET and Cloud technology [doc1].\\n2. Job title: Enterprise Technology Architect at 45 Degrees. This role requires enterprise architects with a strong technology background [doc2].\\n3. Job title: Cloud Architect at 45 Degrees. This role involves helping enterprise customers on their journey to the Cloud [doc3].\\n4. Job title: Associate Cloud Architect at 45 Degrees. As an Associate Cloud Architect or a Cloud Engineer, you would help guide clients in their transition to the Microsoft Azure Cloud [doc4].\\n\\nPlease review the job descriptions for more details and to see which role might be the best fit for you.\",\n",
      "                    \"end_turn\": true\n",
      "                }\n",
      "            ]\n",
      "        }\n",
      "    ]\n",
      "}\n"
     ]
    }
   ],
   "source": [
    "# prepare messages array with question about jobs\n",
    "messages = [\n",
    "    {\"role\": \"system\", \"content\": AZURE_OPENAI_SYSTEM_MESSAGE},\n",
    "    {\"role\": \"user\", \"content\": \"I am an Azure architect. Is there a job for me?\"},\n",
    "]\n",
    "\n",
    "# prepare body to sent to chat completion endpoint\n",
    "body = {\n",
    "        \"messages\": messages,\n",
    "        \"temperature\": float(AZURE_OPENAI_TEMPERATURE),\n",
    "        \"max_tokens\": int(AZURE_OPENAI_MAX_TOKENS),\n",
    "        \"top_p\": float(AZURE_OPENAI_TOP_P),\n",
    "        \"stop\": AZURE_OPENAI_STOP_SEQUENCE.split(\"|\") if AZURE_OPENAI_STOP_SEQUENCE else None,\n",
    "        \"stream\": False,\n",
    "        \"dataSources\": [\n",
    "            {\n",
    "                \"type\": \"AzureCognitiveSearch\",\n",
    "                \"parameters\": {\n",
    "                    \"endpoint\": f\"https://{AZURE_SEARCH_SERVICE}.search.windows.net\",\n",
    "                    \"key\": AZURE_SEARCH_KEY,\n",
    "                    \"indexName\": AZURE_SEARCH_INDEX,\n",
    "                    \"fieldsMapping\": {\n",
    "                        \"contentField\": AZURE_SEARCH_CONTENT_COLUMNS.split(\"|\") if AZURE_SEARCH_CONTENT_COLUMNS else [],\n",
    "                        \"titleField\": AZURE_SEARCH_TITLE_COLUMN if AZURE_SEARCH_TITLE_COLUMN else None,\n",
    "                        \"urlField\": AZURE_SEARCH_URL_COLUMN if AZURE_SEARCH_URL_COLUMN else None,\n",
    "                        \"filepathField\": AZURE_SEARCH_FILENAME_COLUMN if AZURE_SEARCH_FILENAME_COLUMN else None\n",
    "                    },\n",
    "                    \"inScope\": True if AZURE_SEARCH_ENABLE_IN_DOMAIN.lower() == \"true\" else False,\n",
    "                    \"topNDocuments\": AZURE_SEARCH_TOP_K,\n",
    "                    \"queryType\": \"semantic\" if AZURE_SEARCH_USE_SEMANTIC_SEARCH.lower() == \"true\" else \"simple\",\n",
    "                    \"semanticConfiguration\": AZURE_SEARCH_SEMANTIC_SEARCH_CONFIG if AZURE_SEARCH_USE_SEMANTIC_SEARCH.lower() == \"true\" and AZURE_SEARCH_SEMANTIC_SEARCH_CONFIG else \"\",\n",
    "                    \"roleInformation\": AZURE_OPENAI_SYSTEM_MESSAGE\n",
    "                }\n",
    "            }\n",
    "        ]\n",
    "    }\n",
    "\n",
    "endpoint = f\"https://{AZURE_OPENAI_RESOURCE}.openai.azure.com/openai/deployments/{AZURE_OPENAI_MODEL}/extensions/chat/completions?api-version={AZURE_OPENAI_PREVIEW_API_VERSION}\"\n",
    "    \n",
    "\n",
    "# prepare headers\n",
    "headers = {\n",
    "        'Content-Type': 'application/json',\n",
    "        'api-key': AZURE_OPENAI_KEY\n",
    "    }\n",
    "\n",
    "\n",
    "\n",
    "# send request to chat completion endpoint\n",
    "import requests\n",
    "response = requests.post(endpoint, headers=headers, json=body)\n",
    "\n",
    "print(response.status_code)\n",
    "\n",
    "# pretty print entire response\n",
    "import json\n",
    "print(json.dumps(response.json(), indent=4))\n",
    "\n",
    "# print model response\n",
    "model_response = response.json()[\"choices\"][0][\"messages\"][1][\"content\"]\n",
    "\n",
    "\n",
    "\n"
   ]
  }
 ],
 "metadata": {
  "kernelspec": {
   "display_name": "Python 3",
   "language": "python",
   "name": "python3"
  },
  "language_info": {
   "codemirror_mode": {
    "name": "ipython",
    "version": 3
   },
   "file_extension": ".py",
   "mimetype": "text/x-python",
   "name": "python",
   "nbconvert_exporter": "python",
   "pygments_lexer": "ipython3",
   "version": "3.11.4"
  },
  "orig_nbformat": 4
 },
 "nbformat": 4,
 "nbformat_minor": 2
}
